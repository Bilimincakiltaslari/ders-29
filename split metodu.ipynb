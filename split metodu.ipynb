{
 "cells": [
  {
   "cell_type": "code",
   "execution_count": null,
   "metadata": {},
   "outputs": [],
   "source": [
    "print(\"Toplamak istediğiniz sayılar:(boşluk bırakarak yazınız)\")\n",
    "toplananlar = [float(x) for x in input().split()]\n",
    "toplam = 0\n",
    "for i in toplananlar:\n",
    "    toplam += i\n",
    "    print(toplam)"
   ]
  },
  {
   "cell_type": "code",
   "execution_count": null,
   "metadata": {},
   "outputs": [],
   "source": [
    "liste= \"python, c, java\"\n",
    "print(liste.split(\",\"))"
   ]
  },
  {
   "cell_type": "code",
   "execution_count": null,
   "metadata": {},
   "outputs": [],
   "source": [
    "liste2=\"44+55+34+41+65\"\n",
    "print(liste2.split(\"+\"))"
   ]
  },
  {
   "cell_type": "code",
   "execution_count": 10,
   "metadata": {},
   "outputs": [
    {
     "name": "stdout",
     "output_type": "stream",
     "text": [
      "65+41+34+55+44+\n",
      "sayıların toplamı= 239\n"
     ]
    }
   ],
   "source": [
    "liste2=[44,55,34,41,65]\n",
    "toplam=0\n",
    "for i in liste2:\n",
    "    toplam += i\n",
    "liste3=\"\"\n",
    "for i in liste2:\n",
    "    liste3=str(i) + \"+\" + liste3\n",
    "print(liste3)\n",
    "print(\"sayıların toplamı=\",toplam)\n"
   ]
  },
  {
   "cell_type": "code",
   "execution_count": null,
   "metadata": {},
   "outputs": [],
   "source": []
  }
 ],
 "metadata": {
  "kernelspec": {
   "display_name": "Python 3",
   "language": "python",
   "name": "python3"
  },
  "language_info": {
   "codemirror_mode": {
    "name": "ipython",
    "version": 3
   },
   "file_extension": ".py",
   "mimetype": "text/x-python",
   "name": "python",
   "nbconvert_exporter": "python",
   "pygments_lexer": "ipython3",
   "version": "3.7.3"
  }
 },
 "nbformat": 4,
 "nbformat_minor": 2
}
